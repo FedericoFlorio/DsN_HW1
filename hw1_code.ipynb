{
 "cells": [
  {
   "cell_type": "code",
   "execution_count": 1,
   "metadata": {},
   "outputs": [],
   "source": [
    "using Revise, LinearAlgebra\n",
    "includet(\"hw1_functions.jl\")"
   ]
  },
  {
   "cell_type": "code",
   "execution_count": 2,
   "metadata": {},
   "outputs": [
    {
     "data": {
      "text/plain": [
       "Graph(14, [1, 2, 3, 4, 5, 6, 7, 8, 9, 10, 11, 12, 13, 14], [(2, 1), (3, 1), (4, 1), (5, 1), (6, 1), (1, 2), (3, 2), (4, 2), (5, 2), (6, 2)  …  (10, 9), (11, 9), (12, 9), (13, 9), (14, 9), (9, 10), (9, 11), (9, 12), (9, 13), (9, 14)], [0 1 … 0 0; 1 0 … 0 0; … ; 0 0 … 0 0; 0 0 … 0 0], [0.0 1.0 … 0.0 0.0; 1.0 0.0 … 0.0 0.0; … ; 0.0 0.0 … 0.0 0.0; 0.0 0.0 … 0.0 0.0], [5.0, 5.0, 5.0, 5.0, 5.0, 6.0, 2.0, 2.0, 6.0, 1.0, 1.0, 1.0, 1.0, 1.0], [5.0, 5.0, 5.0, 5.0, 5.0, 6.0, 2.0, 2.0, 6.0, 1.0, 1.0, 1.0, 1.0, 1.0], [0.0 0.2 … 0.0 0.0; 0.2 0.0 … 0.0 0.0; … ; 0.0 0.0 … 0.0 0.0; 0.0 0.0 … 0.0 0.0])"
      ]
     },
     "metadata": {},
     "output_type": "display_data"
    }
   ],
   "source": [
    "W = zeros(Float64,14,14)\n",
    "W = [0.0 1.0 1.0 1.0 1.0 1.0 0.0 0.0 0.0 0.0 0.0 0.0 0.0 0.0 ;\n",
    "     1.0 0.0 1.0 1.0 1.0 1.0 0.0 0.0 0.0 0.0 0.0 0.0 0.0 0.0 ;\n",
    "     1.0 1.0 0.0 1.0 1.0 1.0 0.0 0.0 0.0 0.0 0.0 0.0 0.0 0.0 ;\n",
    "     1.0 1.0 1.0 0.0 1.0 1.0 0.0 0.0 0.0 0.0 0.0 0.0 0.0 0.0 ;\n",
    "     1.0 1.0 1.0 1.0 0.0 1.0 0.0 0.0 0.0 0.0 0.0 0.0 0.0 0.0 ;\n",
    "     1.0 1.0 1.0 1.0 1.0 0.0 1.0 0.0 0.0 0.0 0.0 0.0 0.0 0.0 ;\n",
    "     0.0 0.0 0.0 0.0 0.0 1.0 0.0 1.0 0.0 0.0 0.0 0.0 0.0 0.0 ;\n",
    "     0.0 0.0 0.0 0.0 0.0 0.0 1.0 0.0 1.0 0.0 0.0 0.0 0.0 0.0 ;\n",
    "     0.0 0.0 0.0 0.0 0.0 0.0 0.0 1.0 0.0 1.0 1.0 1.0 1.0 1.0 ;\n",
    "     0.0 0.0 0.0 0.0 0.0 0.0 0.0 0.0 1.0 0.0 0.0 0.0 0.0 0.0 ;\n",
    "     0.0 0.0 0.0 0.0 0.0 0.0 0.0 0.0 1.0 0.0 0.0 0.0 0.0 0.0 ;\n",
    "     0.0 0.0 0.0 0.0 0.0 0.0 0.0 0.0 1.0 0.0 0.0 0.0 0.0 0.0 ;\n",
    "     0.0 0.0 0.0 0.0 0.0 0.0 0.0 0.0 1.0 0.0 0.0 0.0 0.0 0.0 ;\n",
    "     0.0 0.0 0.0 0.0 0.0 0.0 0.0 0.0 1.0 0.0 0.0 0.0 0.0 0.0 ;]\n",
    "     \n",
    "G = Graph(W)"
   ]
  },
  {
   "cell_type": "markdown",
   "metadata": {},
   "source": [
    "## (a)"
   ]
  },
  {
   "cell_type": "code",
   "execution_count": 3,
   "metadata": {},
   "outputs": [
    {
     "name": "stdout",
     "output_type": "stream",
     "text": [
      "Degree centrality = [0.10869565217391304, 0.10869565217391304, 0.10869565217391304, 0.10869565217391304, 0.10869565217391304, 0.13043478260869565, 0.043478260869565216, 0.043478260869565216, 0.13043478260869565, 0.021739130434782608, 0.021739130434782608, 0.021739130434782608, 0.021739130434782608, 0.021739130434782608]\n",
      "Eigenvector centrality = [0.15830326304857759, 0.15830326304857759, 0.15830326304857759, 0.15830326304857759, 0.15830326304857759, 0.163930468699841, 0.03396326417121317, 0.00709314421324901, 0.0017545968726510063, 0.00034844216003154565, 0.0003484421600315511, 0.0003484421600315647, 0.00034844216003152527, 0.0003484421600315126]\n",
      "Invariant distribution centrality = [0.10869565217391264, 0.10869565217391251, 0.10869565217391255, 0.10869565217391254, 0.10869565217391251, 0.13043478260869526, 0.043478260869565265, 0.043478260869565466, 0.13043478260869695, 0.021739130434782816, 0.021739130434782816, 0.021739130434782816, 0.021739130434782816, 0.021739130434782816]\n"
     ]
    }
   ],
   "source": [
    "G_deg = centrality_degree(G)\n",
    "G_eig = centrality_eig(G)\n",
    "G_inv = centrality_inv_dist(G)\n",
    "\n",
    "println(\"Degree centrality = $G_deg\\nEigenvector centrality = $G_eig\\nInvariant distribution centrality = $G_inv\")"
   ]
  },
  {
   "cell_type": "markdown",
   "metadata": {},
   "source": [
    "## (b)"
   ]
  },
  {
   "cell_type": "code",
   "execution_count": 4,
   "metadata": {},
   "outputs": [
    {
     "name": "stdout",
     "output_type": "stream",
     "text": [
      "Katz centrality = [0.12326781950879821, 0.12326781950879824, 0.12326781950879821, 0.12326781950879824, 0.12326781950879824, 0.1298672160544967, 0.04569536296822314, 0.033518630270777, 0.04555341303874821, 0.02580525602475276, 0.025805256024752768, 0.02580525602475276, 0.025805256024752758, 0.02580525602475276]\n"
     ]
    }
   ],
   "source": [
    "β = 0.15\n",
    "μ = fill(1/G.N, G.N)\n",
    "G_Katz = centrality_katz(G,β,μ)\n",
    "\n",
    "println(\"Katz centrality = $G_Katz\")"
   ]
  },
  {
   "cell_type": "markdown",
   "metadata": {},
   "source": [
    "## (c)"
   ]
  },
  {
   "cell_type": "markdown",
   "metadata": {},
   "source": [
    "The calculation is implemented by an iterative distributed algorithm. At iteration $t=0$ each node $i$ has a \"Page-Rank\" (can be interpreted as the amount of a substance) of $\\mu_i$. Then, at each iteration $t$, the nodes share a fraction $\\beta$ of their Page-Rank with all other nodes in the graph, according to the distribution $\\mu$, and spread the remaining $1-\\beta$ fraction to their out neighbors, proportionally to the strength of the weights. This gives the following updating rule:\n",
    "$$\n",
    "\\text{pr}_i(t+1) = \\beta\\mu_i + \\sum_{j\\in \\mathcal{V}} P_{ji}\\text{pr}_j(t)\n",
    "$$"
   ]
  },
  {
   "cell_type": "code",
   "execution_count": 5,
   "metadata": {},
   "outputs": [
    {
     "name": "stdout",
     "output_type": "stream",
     "text": [
      "Page-Rank = [0.0765790941219218, 0.0765790941219218, 0.0765790941219218, 0.0765790941219218, 0.0765790941219218, 0.09734840756279482, 0.05068680434088367, 0.06160351581616165, 0.2071576818141203, 0.04006162397128609, 0.04006162397128609, 0.04006162397128609, 0.04006162397128609, 0.04006162397128609]\n"
     ]
    }
   ],
   "source": [
    "G_PageRank = pagerank(G,β,μ,eps=1e-16,maxt=1e7)\n",
    "println(\"Page-Rank = $G_PageRank\")"
   ]
  },
  {
   "cell_type": "markdown",
   "metadata": {},
   "source": [
    "## (d)"
   ]
  },
  {
   "cell_type": "code",
   "execution_count": 7,
   "metadata": {},
   "outputs": [
    {
     "name": "stdout",
     "output_type": "stream",
     "text": [
      "Katz centrality\n",
      "node 6: 0.0768076022776592 \t node 9: 0.026941737394307982\n",
      "\n",
      "Page-Rank centrality\n",
      "node 6: 0.09734840756279481 \t node 9: 0.20715768181412011\n"
     ]
    }
   ],
   "source": [
    "println(\"Katz centrality\")\n",
    "println(\"node 6: $(G_Katz[6]) \\t node 9: $(G_Katz[9])\\n\")\n",
    "println(\"Page-Rank centrality\")\n",
    "println(\"node 6: $(G_PageRank[6]) \\t node 9: $(G_PageRank[9])\")"
   ]
  }
 ],
 "metadata": {
  "kernelspec": {
   "display_name": "Julia 1.8.1",
   "language": "julia",
   "name": "julia-1.8"
  },
  "language_info": {
   "file_extension": ".jl",
   "mimetype": "application/julia",
   "name": "julia",
   "version": "1.8.1"
  }
 },
 "nbformat": 4,
 "nbformat_minor": 2
}
